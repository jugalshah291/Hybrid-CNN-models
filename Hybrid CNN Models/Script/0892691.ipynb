{
  "nbformat": 4,
  "nbformat_minor": 0,
  "metadata": {
    "colab": {
      "name": "0892691.ipynb",
      "provenance": [],
      "collapsed_sections": []
    },
    "kernelspec": {
      "name": "python3",
      "display_name": "Python 3"
    }
  },
  "cells": [
    {
      "cell_type": "markdown",
      "metadata": {
        "id": "TGZy_q_qAdal",
        "colab_type": "text"
      },
      "source": [
        "\n",
        "\n",
        "> Import Packages\n",
        "\n",
        "\n",
        "\n",
        "---\n",
        "\n"
      ]
    },
    {
      "cell_type": "code",
      "metadata": {
        "id": "Nvct-01noozX",
        "colab_type": "code",
        "colab": {}
      },
      "source": [
        "import numpy as np \n",
        "import pandas as pd\n",
        "import pickle\n",
        "import matplotlib.pyplot as plt\n",
        "import seaborn as sns\n",
        "from sklearn.metrics import accuracy_score, f1_score, precision_score, recall_score, classification_report, confusion_matrix\n",
        "from sklearn.model_selection import cross_val_score, GridSearchCV, RandomizedSearchCV\n",
        "import tensorflow as tf\n",
        "from tensorflow import keras\n",
        "from tensorflow.keras import layers\n",
        "from tensorflow.keras.models import Sequential, load_model, Model\n",
        "from tensorflow.keras.layers import Dense\n",
        "from tensorflow.keras.utils import to_categorical\n",
        "from keras.preprocessing.image import ImageDataGenerator\n",
        "from tensorflow.keras.layers import Dropout\n",
        "from tensorflow.keras.layers import Flatten,BatchNormalization\n",
        "from tensorflow.keras.callbacks import ModelCheckpoint, EarlyStopping\n",
        "from tensorflow.keras.layers import Convolution2D,Conv2D\n",
        "from tensorflow.keras.layers import MaxPooling2D\n",
        "from tensorflow.compat.v1 import ConfigProto\n",
        "from tensorflow.compat.v1 import InteractiveSession\n",
        "from sklearn.ensemble import RandomForestClassifier\n",
        "from sklearn.neighbors import KNeighborsClassifier\n",
        "from keras import optimizers\n",
        "import os, shutil\n",
        "from os import listdir\n",
        "import cv2\n",
        "from tqdm import tqdm\n",
        "import random"
      ],
      "execution_count": 104,
      "outputs": []
    },
    {
      "cell_type": "markdown",
      "metadata": {
        "id": "JWA3MVnYAhOt",
        "colab_type": "text"
      },
      "source": [
        "> Segregate the images into folders based on labels\n",
        "---\n",
        "\n",
        "Folder Name\n",
        "*   Abdomen\n",
        "*   Chest\n",
        "*   Head\n",
        "\n",
        "Ref: https://stackoverflow.com/questions/52752860/copy-paste-image-dataset-from-single-folder-to-subfolders-based-on-their-filehttps://stackoverflow.com/questions/52752860/copy-paste-image-dataset-from-single-folder-to-subfolders-based-on-their-file\n",
        "\n",
        "\n",
        "\n",
        "\n",
        "\n",
        "\n",
        "\n",
        "\n",
        "\n",
        "\n",
        "\n"
      ]
    },
    {
      "cell_type": "code",
      "metadata": {
        "id": "014X2Ldyoy-V",
        "colab_type": "code",
        "colab": {}
      },
      "source": [
        "def create_subdirectory():\n",
        "    mypath = \"/content/drive/My Drive/Smart Health/Assignment_3/DS/\"\n",
        "    count=1\n",
        "    for files in listdir(mypath):\n",
        "        #print(count)\n",
        "        count=count+1\n",
        "        directory = (files.split('_'))[0]\n",
        "        if not os.path.exists(directory):\n",
        "            #create directory\n",
        "            os.makedirs(directory)\n",
        "            print(\"Created \"+directory)\n",
        "            #copy image to the directory\n",
        "            shutil.copy(\"/content/drive/My Drive/Smart Health/Assignment_3/DS/\" + files, (directory))\n",
        "        else:\n",
        "            shutil.copy(\"/content/drive/My Drive/Smart Health/Assignment_3/DS/\" + files, (directory))\\\n",
        "\n",
        "create_subdirectory()"
      ],
      "execution_count": 105,
      "outputs": []
    },
    {
      "cell_type": "markdown",
      "metadata": {
        "id": "5CboUAsoBjwT",
        "colab_type": "text"
      },
      "source": [
        "Verify the count in each Folder"
      ]
    },
    {
      "cell_type": "code",
      "metadata": {
        "id": "khEO_DuLttNg",
        "colab_type": "code",
        "colab": {
          "base_uri": "https://localhost:8080/",
          "height": 73
        },
        "outputId": "233bfff8-ee79-48dd-c32f-72958e52b479"
      },
      "source": [
        "print(len(listdir(\"/content/Head/\")))\n",
        "print(len(listdir(\"/content/Chest/\")))\n",
        "print(len(listdir(\"/content/Abdomen/\")))"
      ],
      "execution_count": 106,
      "outputs": [
        {
          "output_type": "stream",
          "text": [
            "500\n",
            "500\n",
            "500\n"
          ],
          "name": "stdout"
        }
      ]
    },
    {
      "cell_type": "markdown",
      "metadata": {
        "id": "X58J9gTRByHs",
        "colab_type": "text"
      },
      "source": [
        "See the current dimension of an image"
      ]
    },
    {
      "cell_type": "code",
      "metadata": {
        "id": "uZU7dMjF-DHy",
        "colab_type": "code",
        "colab": {
          "base_uri": "https://localhost:8080/",
          "height": 36
        },
        "outputId": "2f9a9177-c985-40b7-91cc-e82a3b8db3dd"
      },
      "source": [
        "image = cv2.imread(\"/content/Abdomen/Abdomen_CT Sample#0.jpeg\")\n",
        "image.shape"
      ],
      "execution_count": 107,
      "outputs": [
        {
          "output_type": "execute_result",
          "data": {
            "text/plain": [
              "(64, 64, 3)"
            ]
          },
          "metadata": {
            "tags": []
          },
          "execution_count": 107
        }
      ]
    },
    {
      "cell_type": "markdown",
      "metadata": {
        "id": "f6HUrQJ8Casr",
        "colab_type": "text"
      },
      "source": [
        "> Image Preprocessing\n",
        "\n",
        "\n",
        "---\n",
        "The function below iterate through each image and performs the below step for each image\n",
        "\n",
        "1.   Read the image \n",
        "2.   Grayscale it\n",
        "3.   Resize it\n",
        "4.   Append it to the global array training_data in the format [img,label]\n"
      ]
    },
    {
      "cell_type": "code",
      "metadata": {
        "id": "W8VDph0Y3nul",
        "colab_type": "code",
        "colab": {
          "base_uri": "https://localhost:8080/",
          "height": 73
        },
        "outputId": "6fe62943-b489-41fb-cf78-cc8242c237fc"
      },
      "source": [
        "IMG_SIZE=32\n",
        "root_dir = \"/content\"\n",
        "target_labels = [\"Abdomen\", \"Chest\",\"Head\"]\n",
        "training_data = []\n",
        "def create_training_data():\n",
        "    for category in target_labels:  \n",
        "        path = os.path.join(root_dir,category)\n",
        "        # get the classification labels. 0=Abdomen 1=Chest 2=Head\n",
        "        class_num = target_labels.index(category)  \n",
        "        # iterate over each image \n",
        "        for img in tqdm(os.listdir(path)):  \n",
        "            try:\n",
        "                # convert to array\n",
        "                img_array = cv2.imread(os.path.join(path,img) ,cv2.IMREAD_GRAYSCALE)  \n",
        "                # resize image size\n",
        "                new_array = cv2.resize(img_array, (IMG_SIZE, IMG_SIZE))  \n",
        "                # add this to our training_dat\n",
        "                training_data.append([new_array, class_num])\n",
        "            except Exception as e: \n",
        "                print(e)\n",
        "\n",
        "create_training_data()"
      ],
      "execution_count": 108,
      "outputs": [
        {
          "output_type": "stream",
          "text": [
            "100%|██████████| 500/500 [00:00<00:00, 12389.90it/s]\n",
            "100%|██████████| 500/500 [00:00<00:00, 12676.29it/s]\n",
            "100%|██████████| 500/500 [00:00<00:00, 12844.53it/s]\n"
          ],
          "name": "stderr"
        }
      ]
    },
    {
      "cell_type": "markdown",
      "metadata": {
        "id": "yys5A3K4EE0J",
        "colab_type": "text"
      },
      "source": [
        "Verify the lenght of training_data and examine the data"
      ]
    },
    {
      "cell_type": "code",
      "metadata": {
        "id": "eCb7-j_M30Mu",
        "colab_type": "code",
        "colab": {
          "base_uri": "https://localhost:8080/",
          "height": 279
        },
        "outputId": "2386fcba-f28d-44f6-9607-a03fdfbf23ee"
      },
      "source": [
        "print(\"Number of entries in training_data: \",end=\"\")\n",
        "print(len(training_data))\n",
        "print(\"Entry at index 0 in Training Data\\n\")\n",
        "print(training_data[0])\n",
        "print(\"\\nIt contains an image in 32*32 format and the associated label\")\n",
        "print(\"\\nResized Image Size\",end=\"\")\n",
        "print(training_data[0][0].shape)"
      ],
      "execution_count": 109,
      "outputs": [
        {
          "output_type": "stream",
          "text": [
            "Number of entries in training_data: 1500\n",
            "Entry at index 0 in Training Data\n",
            "\n",
            "[array([[101, 101, 101, ..., 101, 101, 101],\n",
            "       [101, 101, 101, ..., 101, 101, 101],\n",
            "       [101, 101, 101, ..., 101, 101, 101],\n",
            "       ...,\n",
            "       [101, 101, 101, ..., 101, 101, 101],\n",
            "       [101, 101, 101, ..., 101, 101, 101],\n",
            "       [101, 101, 101, ..., 101, 101, 101]], dtype=uint8), 0]\n",
            "\n",
            "It contains an image in 32*32 format and the associated label\n",
            "\n",
            "Resized Image Size(32, 32)\n"
          ],
          "name": "stdout"
        }
      ]
    },
    {
      "cell_type": "markdown",
      "metadata": {
        "id": "cUPTzNa2DB7j",
        "colab_type": "text"
      },
      "source": [
        "Shuffle the training_data"
      ]
    },
    {
      "cell_type": "code",
      "metadata": {
        "id": "1QmT5Udt3-QU",
        "colab_type": "code",
        "colab": {}
      },
      "source": [
        "random.shuffle(training_data)"
      ],
      "execution_count": 110,
      "outputs": []
    },
    {
      "cell_type": "markdown",
      "metadata": {
        "id": "3fBIUwGMDroV",
        "colab_type": "text"
      },
      "source": [
        "Segreate the images (array) and label into X and Y"
      ]
    },
    {
      "cell_type": "code",
      "metadata": {
        "id": "BYq3P4Pk4G79",
        "colab_type": "code",
        "colab": {}
      },
      "source": [
        "X = []\n",
        "Y = []\n",
        "for features,label in training_data:\n",
        "    X.append(features)\n",
        "    Y.append(label)\n"
      ],
      "execution_count": 111,
      "outputs": []
    },
    {
      "cell_type": "markdown",
      "metadata": {
        "id": "jnznd62SGUwk",
        "colab_type": "text"
      },
      "source": [
        "Both X and Y are list and needs to be converted to numpy array"
      ]
    },
    {
      "cell_type": "code",
      "metadata": {
        "id": "FXXkaJFAGIgj",
        "colab_type": "code",
        "colab": {
          "base_uri": "https://localhost:8080/",
          "height": 54
        },
        "outputId": "0b567ad1-a76a-4463-f028-fac2fc29e244"
      },
      "source": [
        "print(len(X))\n",
        "print(len(Y))"
      ],
      "execution_count": 112,
      "outputs": [
        {
          "output_type": "stream",
          "text": [
            "1500\n",
            "1500\n"
          ],
          "name": "stdout"
        }
      ]
    },
    {
      "cell_type": "markdown",
      "metadata": {
        "id": "H5UockN1Eqz4",
        "colab_type": "text"
      },
      "source": [
        "Convert X in to numpy array and reshape it "
      ]
    },
    {
      "cell_type": "markdown",
      "metadata": {
        "id": "mpAs6w3IGlTb",
        "colab_type": "text"
      },
      "source": [
        "Post reshape X can be imagined as a table with\n",
        "1500 (total images) rows. Each row having 32*32 array\n",
        "\n",
        "Reshape parameters\n",
        "\n",
        "*  -1 : Indicated that the table can have dynamic number of rows\n",
        "*   IMG_Size,IMG_Size : Indicates the size of data inside each row\n",
        "*   1 : Even thought we are building Conv2D model the data that is passed to the model must be 3D\n",
        "\n",
        "\n",
        "\n",
        "\n",
        "  \n",
        "\n",
        "\n"
      ]
    },
    {
      "cell_type": "code",
      "metadata": {
        "id": "cd--5de-XI1W",
        "colab_type": "code",
        "colab": {
          "base_uri": "https://localhost:8080/",
          "height": 36
        },
        "outputId": "e9d9dc02-488b-40bc-b24c-9b9938e01b20"
      },
      "source": [
        "X = np.array(X).reshape(-1, IMG_SIZE, IMG_SIZE, 1)\n",
        "print(X.shape)"
      ],
      "execution_count": 113,
      "outputs": [
        {
          "output_type": "stream",
          "text": [
            "(1500, 32, 32, 1)\n"
          ],
          "name": "stdout"
        }
      ]
    },
    {
      "cell_type": "markdown",
      "metadata": {
        "id": "J_FDIONmILbe",
        "colab_type": "text"
      },
      "source": [
        "Y represent classification labels. The datatype of Y is list would be converted to categorical array, later in the script"
      ]
    },
    {
      "cell_type": "code",
      "metadata": {
        "id": "b4u4p-Go4TBq",
        "colab_type": "code",
        "colab": {
          "base_uri": "https://localhost:8080/",
          "height": 36
        },
        "outputId": "165bc07f-cdcf-4b14-db1a-99831a5b27fa"
      },
      "source": [
        "type(Y)"
      ],
      "execution_count": 114,
      "outputs": [
        {
          "output_type": "execute_result",
          "data": {
            "text/plain": [
              "list"
            ]
          },
          "metadata": {
            "tags": []
          },
          "execution_count": 114
        }
      ]
    },
    {
      "cell_type": "markdown",
      "metadata": {
        "id": "9--UNVfLIY8Z",
        "colab_type": "text"
      },
      "source": [
        "\n",
        "Normalize the image"
      ]
    },
    {
      "cell_type": "code",
      "metadata": {
        "id": "2Y_Cwdr_50Ao",
        "colab_type": "code",
        "colab": {
          "base_uri": "https://localhost:8080/",
          "height": 204
        },
        "outputId": "24c041e3-8924-44a1-c05d-43ab399c4fa9"
      },
      "source": [
        "#Each  image array has value in the range of 0-255 so we normalize it by dividing it by 255\n",
        "X = X.astype('float32')/255.0\n",
        "#Verifying the denomination\n",
        "print(X[0][0][:10])"
      ],
      "execution_count": 115,
      "outputs": [
        {
          "output_type": "stream",
          "text": [
            "[[0.09803922]\n",
            " [0.09803922]\n",
            " [0.09803922]\n",
            " [0.09803922]\n",
            " [0.09803922]\n",
            " [0.09803922]\n",
            " [0.09803922]\n",
            " [0.09803922]\n",
            " [0.09803922]\n",
            " [0.09803922]]\n"
          ],
          "name": "stdout"
        }
      ]
    },
    {
      "cell_type": "markdown",
      "metadata": {
        "id": "Ikkru4EUJnBG",
        "colab_type": "text"
      },
      "source": [
        "\n",
        "\n",
        "> Split the Train and Test Model\n",
        "\n",
        "---\n",
        "\n",
        "\n",
        "\n"
      ]
    },
    {
      "cell_type": "code",
      "metadata": {
        "id": "Qyb3bsz-6SZH",
        "colab_type": "code",
        "colab": {}
      },
      "source": [
        "from sklearn.model_selection import train_test_split\n",
        "xTrain, xTest, yTrain, yTest = train_test_split(X, Y, test_size=0.20)"
      ],
      "execution_count": 116,
      "outputs": []
    },
    {
      "cell_type": "code",
      "metadata": {
        "id": "f4a3WafF6gaZ",
        "colab_type": "code",
        "colab": {
          "base_uri": "https://localhost:8080/",
          "height": 54
        },
        "outputId": "9aa108be-14c2-41ac-e37d-09d85aa10233"
      },
      "source": [
        "print(\"xTrain and yTrain length: \",end=\"\")\n",
        "print(len(xTrain),len(yTrain))\n",
        "print(\"xTest and yTest length: \",end=\"\")\n",
        "print(len(xTest),len(yTest))"
      ],
      "execution_count": 117,
      "outputs": [
        {
          "output_type": "stream",
          "text": [
            "xTrain and yTrain length: 1200 1200\n",
            "xTest and yTest length: 300 300\n"
          ],
          "name": "stdout"
        }
      ]
    },
    {
      "cell_type": "markdown",
      "metadata": {
        "id": "AHswKeVCRqXF",
        "colab_type": "text"
      },
      "source": [
        "Convertion of yTrain to categorical"
      ]
    },
    {
      "cell_type": "code",
      "metadata": {
        "id": "ayjZ-rKkahpp",
        "colab_type": "code",
        "colab": {
          "base_uri": "https://localhost:8080/",
          "height": 54
        },
        "outputId": "e297c3b4-29f9-4dac-9ec5-2c72e7ecf932"
      },
      "source": [
        "print(\"xTrain Shape \",end=\"\")\n",
        "print(xTrain.shape)\n",
        "new_yTrain = to_categorical(yTrain,3)\n",
        "print(\"yTrain Shape \",end=\"\")\n",
        "print(new_yTrain.shape)"
      ],
      "execution_count": 118,
      "outputs": [
        {
          "output_type": "stream",
          "text": [
            "xTrain Shape (1200, 32, 32, 1)\n",
            "yTrain Shape (1200, 3)\n"
          ],
          "name": "stdout"
        }
      ]
    },
    {
      "cell_type": "markdown",
      "metadata": {
        "id": "3kUlGvuLRdAM",
        "colab_type": "text"
      },
      "source": [
        "\n",
        "\n",
        "> Function to calculate the Performance Metrics\n",
        "\n",
        "---\n",
        "\n",
        "\n",
        "\n"
      ]
    },
    {
      "cell_type": "code",
      "metadata": {
        "id": "3MxKNkFskWcy",
        "colab_type": "code",
        "colab": {}
      },
      "source": [
        "def showResults(modelname,test, pred):\n",
        "    accuracy = accuracy_score(test, pred)\n",
        "    precision=precision_score(test, pred, average='weighted')\n",
        "    f1Score=f1_score(test, pred, average='weighted') \n",
        "    print(\"Accuracy  : {}\".format(accuracy))\n",
        "    print(\"Precision : {}\".format(precision))\n",
        "    print(\"f1Score : {}\".format(f1Score))\n",
        "    print(\"Confusion Matrix\")\n",
        "    cm=confusion_matrix(test, pred)\n",
        "    print(cm)\n",
        "    results=[(modelname,\"Accuracy\",accuracy),(modelname,\"Precision\",precision),(modelname,\"F1Score\",f1Score)]\n",
        "    return results"
      ],
      "execution_count": 119,
      "outputs": []
    },
    {
      "cell_type": "markdown",
      "metadata": {
        "id": "l8PnCprNSovn",
        "colab_type": "text"
      },
      "source": [
        "\n",
        "\n",
        "> CNN Model Defination\n",
        "\n",
        "---\n",
        "\n",
        "\n",
        "\n",
        "\n"
      ]
    },
    {
      "cell_type": "code",
      "metadata": {
        "id": "okF61wYgSSbP",
        "colab_type": "code",
        "colab": {
          "base_uri": "https://localhost:8080/",
          "height": 541
        },
        "outputId": "4bb022d9-9ac4-4ff2-a6dc-c5f7e40fed0e"
      },
      "source": [
        "verbose, epoch, batch_size = 1, 20, 32\n",
        "activationFunction='relu'\n",
        "\n",
        "def getModel():\n",
        "    cnnmodel = Sequential()\n",
        "    \n",
        "    cnnmodel.add(Conv2D(50, kernel_size = (5, 5), activation=activationFunction, \n",
        "                input_shape=(IMG_SIZE, IMG_SIZE, 1)))\n",
        "    cnnmodel.add(Dropout(0.1))\n",
        "    cnnmodel.add(MaxPooling2D(pool_size=(2,2)))\n",
        "    \n",
        "    cnnmodel.add(Flatten())\n",
        "    cnnmodel.add(Dropout(0.1))\n",
        "    cnnmodel.add(Dense(30, activation=activationFunction))\n",
        "    cnnmodel.add(Dropout(0.1))\n",
        "    cnnmodel.add(Dense(15, activation=activationFunction))\n",
        "    cnnmodel.add(Dropout(0.1))\n",
        "    cnnmodel.add(Dense(3, activation = 'softmax'))\n",
        "    cnnmodel.compile(optimizer='adam', loss='categorical_crossentropy', \n",
        "                     metrics=['categorical_accuracy'])\n",
        "    cnnmodel.summary()\n",
        "    return cnnmodel\n",
        "\n",
        "cnnmodel = getModel()"
      ],
      "execution_count": 120,
      "outputs": [
        {
          "output_type": "stream",
          "text": [
            "Model: \"sequential_2\"\n",
            "_________________________________________________________________\n",
            "Layer (type)                 Output Shape              Param #   \n",
            "=================================================================\n",
            "conv2d_2 (Conv2D)            (None, 28, 28, 50)        1300      \n",
            "_________________________________________________________________\n",
            "dropout_8 (Dropout)          (None, 28, 28, 50)        0         \n",
            "_________________________________________________________________\n",
            "max_pooling2d_2 (MaxPooling2 (None, 14, 14, 50)        0         \n",
            "_________________________________________________________________\n",
            "flatten_2 (Flatten)          (None, 9800)              0         \n",
            "_________________________________________________________________\n",
            "dropout_9 (Dropout)          (None, 9800)              0         \n",
            "_________________________________________________________________\n",
            "dense_6 (Dense)              (None, 30)                294030    \n",
            "_________________________________________________________________\n",
            "dropout_10 (Dropout)         (None, 30)                0         \n",
            "_________________________________________________________________\n",
            "dense_7 (Dense)              (None, 15)                465       \n",
            "_________________________________________________________________\n",
            "dropout_11 (Dropout)         (None, 15)                0         \n",
            "_________________________________________________________________\n",
            "dense_8 (Dense)              (None, 3)                 48        \n",
            "=================================================================\n",
            "Total params: 295,843\n",
            "Trainable params: 295,843\n",
            "Non-trainable params: 0\n",
            "_________________________________________________________________\n"
          ],
          "name": "stdout"
        }
      ]
    },
    {
      "cell_type": "markdown",
      "metadata": {
        "id": "pthfA3Qd4eMJ",
        "colab_type": "text"
      },
      "source": [
        "Train the CNN Model "
      ]
    },
    {
      "cell_type": "code",
      "metadata": {
        "id": "1M45o8ikdXH0",
        "colab_type": "code",
        "colab": {
          "base_uri": "https://localhost:8080/",
          "height": 1000
        },
        "outputId": "23dc6ec5-51cc-4587-bc41-eb71a4480f23"
      },
      "source": [
        "checkpoint = ModelCheckpoint(\"cnnmodel.h5\",  # model filename\n",
        "                             monitor='loss',\n",
        "                             verbose=1, # verbosity - 0 or 1\n",
        "                             save_best_only= True, \n",
        "                             mode='auto') \n",
        "early_stopping = EarlyStopping(monitor='loss',\n",
        "                               patience=5,\n",
        "                               verbose=1,\n",
        "                               mode='auto')\n",
        "# fit model\n",
        "cnnhistory=cnnmodel.fit(xTrain,new_yTrain,\n",
        "                        epochs=epoch,\n",
        "                        validation_split=0.2,\n",
        "                        batch_size=batch_size,callbacks=[checkpoint, early_stopping])"
      ],
      "execution_count": 121,
      "outputs": [
        {
          "output_type": "stream",
          "text": [
            "Epoch 1/20\n",
            "29/30 [============================>.] - ETA: 0s - loss: 0.8663 - categorical_accuracy: 0.6207\n",
            "Epoch 00001: loss improved from inf to 0.85725, saving model to cnnmodel.h5\n",
            "30/30 [==============================] - 2s 59ms/step - loss: 0.8572 - categorical_accuracy: 0.6250 - val_loss: 0.4823 - val_categorical_accuracy: 0.9750\n",
            "Epoch 2/20\n",
            "29/30 [============================>.] - ETA: 0s - loss: 0.4713 - categorical_accuracy: 0.8384\n",
            "Epoch 00002: loss improved from 0.85725 to 0.46787, saving model to cnnmodel.h5\n",
            "30/30 [==============================] - 1s 48ms/step - loss: 0.4679 - categorical_accuracy: 0.8406 - val_loss: 0.2845 - val_categorical_accuracy: 0.9750\n",
            "Epoch 3/20\n",
            "30/30 [==============================] - ETA: 0s - loss: 0.3017 - categorical_accuracy: 0.8792\n",
            "Epoch 00003: loss improved from 0.46787 to 0.30167, saving model to cnnmodel.h5\n",
            "30/30 [==============================] - 1s 47ms/step - loss: 0.3017 - categorical_accuracy: 0.8792 - val_loss: 0.1017 - val_categorical_accuracy: 0.9958\n",
            "Epoch 4/20\n",
            "29/30 [============================>.] - ETA: 0s - loss: 0.1884 - categorical_accuracy: 0.9278\n",
            "Epoch 00004: loss improved from 0.30167 to 0.18807, saving model to cnnmodel.h5\n",
            "30/30 [==============================] - 1s 48ms/step - loss: 0.1881 - categorical_accuracy: 0.9271 - val_loss: 0.0859 - val_categorical_accuracy: 1.0000\n",
            "Epoch 5/20\n",
            "30/30 [==============================] - ETA: 0s - loss: 0.1191 - categorical_accuracy: 0.9552\n",
            "Epoch 00005: loss improved from 0.18807 to 0.11908, saving model to cnnmodel.h5\n",
            "30/30 [==============================] - 1s 49ms/step - loss: 0.1191 - categorical_accuracy: 0.9552 - val_loss: 0.3360 - val_categorical_accuracy: 0.7667\n",
            "Epoch 6/20\n",
            "30/30 [==============================] - ETA: 0s - loss: 0.1190 - categorical_accuracy: 0.9552\n",
            "Epoch 00006: loss improved from 0.11908 to 0.11896, saving model to cnnmodel.h5\n",
            "30/30 [==============================] - 1s 48ms/step - loss: 0.1190 - categorical_accuracy: 0.9552 - val_loss: 0.0224 - val_categorical_accuracy: 1.0000\n",
            "Epoch 7/20\n",
            "30/30 [==============================] - ETA: 0s - loss: 0.0857 - categorical_accuracy: 0.9615\n",
            "Epoch 00007: loss improved from 0.11896 to 0.08575, saving model to cnnmodel.h5\n",
            "30/30 [==============================] - 1s 49ms/step - loss: 0.0857 - categorical_accuracy: 0.9615 - val_loss: 0.0133 - val_categorical_accuracy: 1.0000\n",
            "Epoch 8/20\n",
            "30/30 [==============================] - ETA: 0s - loss: 0.0777 - categorical_accuracy: 0.9625\n",
            "Epoch 00008: loss improved from 0.08575 to 0.07769, saving model to cnnmodel.h5\n",
            "30/30 [==============================] - 1s 50ms/step - loss: 0.0777 - categorical_accuracy: 0.9625 - val_loss: 0.0123 - val_categorical_accuracy: 1.0000\n",
            "Epoch 9/20\n",
            "30/30 [==============================] - ETA: 0s - loss: 0.1456 - categorical_accuracy: 0.9531\n",
            "Epoch 00009: loss did not improve from 0.07769\n",
            "30/30 [==============================] - 1s 48ms/step - loss: 0.1456 - categorical_accuracy: 0.9531 - val_loss: 0.0245 - val_categorical_accuracy: 1.0000\n",
            "Epoch 10/20\n",
            "29/30 [============================>.] - ETA: 0s - loss: 0.0605 - categorical_accuracy: 0.9795\n",
            "Epoch 00010: loss improved from 0.07769 to 0.05875, saving model to cnnmodel.h5\n",
            "30/30 [==============================] - 1s 49ms/step - loss: 0.0588 - categorical_accuracy: 0.9802 - val_loss: 0.0064 - val_categorical_accuracy: 1.0000\n",
            "Epoch 11/20\n",
            "30/30 [==============================] - ETA: 0s - loss: 0.0617 - categorical_accuracy: 0.9854\n",
            "Epoch 00011: loss did not improve from 0.05875\n",
            "30/30 [==============================] - 1s 48ms/step - loss: 0.0617 - categorical_accuracy: 0.9854 - val_loss: 0.0066 - val_categorical_accuracy: 1.0000\n",
            "Epoch 12/20\n",
            "30/30 [==============================] - ETA: 0s - loss: 0.0548 - categorical_accuracy: 0.9792\n",
            "Epoch 00012: loss improved from 0.05875 to 0.05484, saving model to cnnmodel.h5\n",
            "30/30 [==============================] - 1s 49ms/step - loss: 0.0548 - categorical_accuracy: 0.9792 - val_loss: 0.0043 - val_categorical_accuracy: 1.0000\n",
            "Epoch 13/20\n",
            "30/30 [==============================] - ETA: 0s - loss: 0.0526 - categorical_accuracy: 0.9844\n",
            "Epoch 00013: loss improved from 0.05484 to 0.05260, saving model to cnnmodel.h5\n",
            "30/30 [==============================] - 1s 49ms/step - loss: 0.0526 - categorical_accuracy: 0.9844 - val_loss: 0.0168 - val_categorical_accuracy: 1.0000\n",
            "Epoch 14/20\n",
            "30/30 [==============================] - ETA: 0s - loss: 0.0531 - categorical_accuracy: 0.9906\n",
            "Epoch 00014: loss did not improve from 0.05260\n",
            "30/30 [==============================] - 1s 49ms/step - loss: 0.0531 - categorical_accuracy: 0.9906 - val_loss: 0.0050 - val_categorical_accuracy: 1.0000\n",
            "Epoch 15/20\n",
            "30/30 [==============================] - ETA: 0s - loss: 0.0329 - categorical_accuracy: 0.9937\n",
            "Epoch 00015: loss improved from 0.05260 to 0.03292, saving model to cnnmodel.h5\n",
            "30/30 [==============================] - 2s 50ms/step - loss: 0.0329 - categorical_accuracy: 0.9937 - val_loss: 0.0023 - val_categorical_accuracy: 1.0000\n",
            "Epoch 16/20\n",
            "29/30 [============================>.] - ETA: 0s - loss: 0.0425 - categorical_accuracy: 0.9925\n",
            "Epoch 00016: loss did not improve from 0.03292\n",
            "30/30 [==============================] - 1s 49ms/step - loss: 0.0427 - categorical_accuracy: 0.9927 - val_loss: 0.0061 - val_categorical_accuracy: 1.0000\n",
            "Epoch 17/20\n",
            "30/30 [==============================] - ETA: 0s - loss: 0.0281 - categorical_accuracy: 0.9979\n",
            "Epoch 00017: loss improved from 0.03292 to 0.02812, saving model to cnnmodel.h5\n",
            "30/30 [==============================] - 1s 49ms/step - loss: 0.0281 - categorical_accuracy: 0.9979 - val_loss: 0.0021 - val_categorical_accuracy: 1.0000\n",
            "Epoch 18/20\n",
            "29/30 [============================>.] - ETA: 0s - loss: 0.0321 - categorical_accuracy: 0.9968\n",
            "Epoch 00018: loss did not improve from 0.02812\n",
            "30/30 [==============================] - 1s 48ms/step - loss: 0.0329 - categorical_accuracy: 0.9969 - val_loss: 0.0024 - val_categorical_accuracy: 1.0000\n",
            "Epoch 19/20\n",
            "30/30 [==============================] - ETA: 0s - loss: 0.0280 - categorical_accuracy: 0.9990\n",
            "Epoch 00019: loss improved from 0.02812 to 0.02798, saving model to cnnmodel.h5\n",
            "30/30 [==============================] - 1s 49ms/step - loss: 0.0280 - categorical_accuracy: 0.9990 - val_loss: 0.0015 - val_categorical_accuracy: 1.0000\n",
            "Epoch 20/20\n",
            "29/30 [============================>.] - ETA: 0s - loss: 0.0506 - categorical_accuracy: 0.9925\n",
            "Epoch 00020: loss did not improve from 0.02798\n",
            "30/30 [==============================] - 1s 48ms/step - loss: 0.0500 - categorical_accuracy: 0.9927 - val_loss: 0.0039 - val_categorical_accuracy: 1.0000\n"
          ],
          "name": "stdout"
        }
      ]
    },
    {
      "cell_type": "markdown",
      "metadata": {
        "id": "fHF7jk5OrcDv",
        "colab_type": "text"
      },
      "source": [
        "\n",
        "\n",
        "> Feature Extraction from CNN\n",
        "\n",
        "---\n",
        "\n",
        "\n",
        "\n"
      ]
    },
    {
      "cell_type": "markdown",
      "metadata": {
        "id": "Ue56ceW6-Cbl",
        "colab_type": "text"
      },
      "source": [
        "Pick the Fully-Connected layer just above the softmax"
      ]
    },
    {
      "cell_type": "code",
      "metadata": {
        "id": "Od5vz_aFrbpb",
        "colab_type": "code",
        "colab": {
          "base_uri": "https://localhost:8080/",
          "height": 36
        },
        "outputId": "beceb10f-380c-4798-8926-6364b0d80dba"
      },
      "source": [
        "#Pick the Fully-Connected layer just above the softmax (-3 since their also a dropout layer)\n",
        "print(cnnmodel.layers[-3].name)\n",
        "layer_name = cnnmodel.layers[-3].name\n",
        "feature_layer = Model(inputs=cnnmodel.input,outputs=cnnmodel.get_layer(layer_name).output)"
      ],
      "execution_count": 122,
      "outputs": [
        {
          "output_type": "stream",
          "text": [
            "dense_7\n"
          ],
          "name": "stdout"
        }
      ]
    },
    {
      "cell_type": "markdown",
      "metadata": {
        "id": "8_OzdpAq-D0z",
        "colab_type": "text"
      },
      "source": [
        "Extract the features for the Training images from the CNN feature layer. This \n",
        "training features would later be passed as input to the Random Forest model and KNN model\n",
        "\n"
      ]
    },
    {
      "cell_type": "code",
      "metadata": {
        "id": "qsrxrFDNs4F3",
        "colab_type": "code",
        "colab": {
          "base_uri": "https://localhost:8080/",
          "height": 54
        },
        "outputId": "6b07c8d3-1f7f-406d-dad3-de5d96b0735a"
      },
      "source": [
        "train_data_features=feature_layer.predict(xTrain,verbose=1)\n",
        "print(train_data_features.shape)"
      ],
      "execution_count": 123,
      "outputs": [
        {
          "output_type": "stream",
          "text": [
            "38/38 [==============================] - 0s 8ms/step\n",
            "(1200, 15)\n"
          ],
          "name": "stdout"
        }
      ]
    },
    {
      "cell_type": "code",
      "metadata": {
        "id": "jqvFdWYatHcB",
        "colab_type": "code",
        "colab": {
          "base_uri": "https://localhost:8080/",
          "height": 206
        },
        "outputId": "5255a8b6-35e0-4c3b-a70c-3b0634f1b528"
      },
      "source": [
        "train_features=pd.DataFrame(data=train_data_features)\n",
        "train_features.head(5)"
      ],
      "execution_count": 124,
      "outputs": [
        {
          "output_type": "execute_result",
          "data": {
            "text/html": [
              "<div>\n",
              "<style scoped>\n",
              "    .dataframe tbody tr th:only-of-type {\n",
              "        vertical-align: middle;\n",
              "    }\n",
              "\n",
              "    .dataframe tbody tr th {\n",
              "        vertical-align: top;\n",
              "    }\n",
              "\n",
              "    .dataframe thead th {\n",
              "        text-align: right;\n",
              "    }\n",
              "</style>\n",
              "<table border=\"1\" class=\"dataframe\">\n",
              "  <thead>\n",
              "    <tr style=\"text-align: right;\">\n",
              "      <th></th>\n",
              "      <th>0</th>\n",
              "      <th>1</th>\n",
              "      <th>2</th>\n",
              "      <th>3</th>\n",
              "      <th>4</th>\n",
              "      <th>5</th>\n",
              "      <th>6</th>\n",
              "      <th>7</th>\n",
              "      <th>8</th>\n",
              "      <th>9</th>\n",
              "      <th>10</th>\n",
              "      <th>11</th>\n",
              "      <th>12</th>\n",
              "      <th>13</th>\n",
              "      <th>14</th>\n",
              "    </tr>\n",
              "  </thead>\n",
              "  <tbody>\n",
              "    <tr>\n",
              "      <th>0</th>\n",
              "      <td>13.705894</td>\n",
              "      <td>12.318461</td>\n",
              "      <td>5.829234</td>\n",
              "      <td>0.000000</td>\n",
              "      <td>0.000000</td>\n",
              "      <td>15.975816</td>\n",
              "      <td>0.0</td>\n",
              "      <td>0.000000</td>\n",
              "      <td>18.434242</td>\n",
              "      <td>0.0</td>\n",
              "      <td>13.687398</td>\n",
              "      <td>0.000000</td>\n",
              "      <td>0.000000</td>\n",
              "      <td>0.000000</td>\n",
              "      <td>22.127472</td>\n",
              "    </tr>\n",
              "    <tr>\n",
              "      <th>1</th>\n",
              "      <td>12.170424</td>\n",
              "      <td>11.140219</td>\n",
              "      <td>4.671603</td>\n",
              "      <td>0.000000</td>\n",
              "      <td>0.000000</td>\n",
              "      <td>14.019700</td>\n",
              "      <td>0.0</td>\n",
              "      <td>0.000000</td>\n",
              "      <td>15.989790</td>\n",
              "      <td>0.0</td>\n",
              "      <td>12.548737</td>\n",
              "      <td>0.000000</td>\n",
              "      <td>0.000000</td>\n",
              "      <td>0.000000</td>\n",
              "      <td>20.087120</td>\n",
              "    </tr>\n",
              "    <tr>\n",
              "      <th>2</th>\n",
              "      <td>0.000000</td>\n",
              "      <td>0.000000</td>\n",
              "      <td>0.618829</td>\n",
              "      <td>0.013024</td>\n",
              "      <td>0.279695</td>\n",
              "      <td>0.000000</td>\n",
              "      <td>0.0</td>\n",
              "      <td>3.989811</td>\n",
              "      <td>0.000000</td>\n",
              "      <td>0.0</td>\n",
              "      <td>3.077196</td>\n",
              "      <td>0.000000</td>\n",
              "      <td>0.000000</td>\n",
              "      <td>2.745128</td>\n",
              "      <td>2.954012</td>\n",
              "    </tr>\n",
              "    <tr>\n",
              "      <th>3</th>\n",
              "      <td>0.000000</td>\n",
              "      <td>0.000000</td>\n",
              "      <td>2.469976</td>\n",
              "      <td>4.446086</td>\n",
              "      <td>0.000000</td>\n",
              "      <td>0.000000</td>\n",
              "      <td>0.0</td>\n",
              "      <td>0.167962</td>\n",
              "      <td>0.000000</td>\n",
              "      <td>0.0</td>\n",
              "      <td>0.000712</td>\n",
              "      <td>4.187174</td>\n",
              "      <td>2.520313</td>\n",
              "      <td>0.926233</td>\n",
              "      <td>0.000000</td>\n",
              "    </tr>\n",
              "    <tr>\n",
              "      <th>4</th>\n",
              "      <td>0.000000</td>\n",
              "      <td>0.000000</td>\n",
              "      <td>2.474013</td>\n",
              "      <td>4.454425</td>\n",
              "      <td>0.000000</td>\n",
              "      <td>0.000000</td>\n",
              "      <td>0.0</td>\n",
              "      <td>0.184807</td>\n",
              "      <td>0.000000</td>\n",
              "      <td>0.0</td>\n",
              "      <td>0.000000</td>\n",
              "      <td>4.181838</td>\n",
              "      <td>2.507711</td>\n",
              "      <td>0.932903</td>\n",
              "      <td>0.000000</td>\n",
              "    </tr>\n",
              "  </tbody>\n",
              "</table>\n",
              "</div>"
            ],
            "text/plain": [
              "          0          1         2   ...        12        13         14\n",
              "0  13.705894  12.318461  5.829234  ...  0.000000  0.000000  22.127472\n",
              "1  12.170424  11.140219  4.671603  ...  0.000000  0.000000  20.087120\n",
              "2   0.000000   0.000000  0.618829  ...  0.000000  2.745128   2.954012\n",
              "3   0.000000   0.000000  2.469976  ...  2.520313  0.926233   0.000000\n",
              "4   0.000000   0.000000  2.474013  ...  2.507711  0.932903   0.000000\n",
              "\n",
              "[5 rows x 15 columns]"
            ]
          },
          "metadata": {
            "tags": []
          },
          "execution_count": 124
        }
      ]
    },
    {
      "cell_type": "markdown",
      "metadata": {
        "id": "vHvCFU0xtbej",
        "colab_type": "text"
      },
      "source": [
        "\n",
        "\n",
        "> Train Base Random Forest Model\n",
        "\n",
        "---\n",
        "\n",
        "\n",
        "\n"
      ]
    },
    {
      "cell_type": "code",
      "metadata": {
        "id": "R1Eyd-zNta3x",
        "colab_type": "code",
        "colab": {
          "base_uri": "https://localhost:8080/",
          "height": 167
        },
        "outputId": "f7dfd0a4-d1d7-4914-9317-b5d9e62b910e"
      },
      "source": [
        "#Feed the extracted features with the labels to Base Random Forest\n",
        "base_rf = RandomForestClassifier(n_estimators = 20, random_state = 42,max_depth=100, max_features=\"auto\")\n",
        "base_rf.fit(train_features, new_yTrain)"
      ],
      "execution_count": 125,
      "outputs": [
        {
          "output_type": "execute_result",
          "data": {
            "text/plain": [
              "RandomForestClassifier(bootstrap=True, ccp_alpha=0.0, class_weight=None,\n",
              "                       criterion='gini', max_depth=100, max_features='auto',\n",
              "                       max_leaf_nodes=None, max_samples=None,\n",
              "                       min_impurity_decrease=0.0, min_impurity_split=None,\n",
              "                       min_samples_leaf=1, min_samples_split=2,\n",
              "                       min_weight_fraction_leaf=0.0, n_estimators=20,\n",
              "                       n_jobs=None, oob_score=False, random_state=42, verbose=0,\n",
              "                       warm_start=False)"
            ]
          },
          "metadata": {
            "tags": []
          },
          "execution_count": 125
        }
      ]
    },
    {
      "cell_type": "markdown",
      "metadata": {
        "id": "ftUFNKqaMndb",
        "colab_type": "text"
      },
      "source": [
        "Extract the features for the Testing images from the CNN feature layer. This test features would later be passed as input to the Random Forest model and KNN model"
      ]
    },
    {
      "cell_type": "code",
      "metadata": {
        "id": "crymXxV9u8Zn",
        "colab_type": "code",
        "colab": {
          "base_uri": "https://localhost:8080/",
          "height": 54
        },
        "outputId": "766a1e20-5457-4e1f-fcc9-c28d1fd27dff"
      },
      "source": [
        "test_data_features=feature_layer.predict(xTest,verbose=1)\n",
        "print(test_data_features.shape)"
      ],
      "execution_count": 126,
      "outputs": [
        {
          "output_type": "stream",
          "text": [
            "10/10 [==============================] - 0s 8ms/step\n",
            "(300, 15)\n"
          ],
          "name": "stdout"
        }
      ]
    },
    {
      "cell_type": "code",
      "metadata": {
        "id": "xFKoHBKzvR2L",
        "colab_type": "code",
        "colab": {
          "base_uri": "https://localhost:8080/",
          "height": 206
        },
        "outputId": "683aff85-dd59-488f-974b-02b6c1578ad7"
      },
      "source": [
        "test_features=pd.DataFrame(data=test_data_features)\n",
        "test_features.head(5)"
      ],
      "execution_count": 127,
      "outputs": [
        {
          "output_type": "execute_result",
          "data": {
            "text/html": [
              "<div>\n",
              "<style scoped>\n",
              "    .dataframe tbody tr th:only-of-type {\n",
              "        vertical-align: middle;\n",
              "    }\n",
              "\n",
              "    .dataframe tbody tr th {\n",
              "        vertical-align: top;\n",
              "    }\n",
              "\n",
              "    .dataframe thead th {\n",
              "        text-align: right;\n",
              "    }\n",
              "</style>\n",
              "<table border=\"1\" class=\"dataframe\">\n",
              "  <thead>\n",
              "    <tr style=\"text-align: right;\">\n",
              "      <th></th>\n",
              "      <th>0</th>\n",
              "      <th>1</th>\n",
              "      <th>2</th>\n",
              "      <th>3</th>\n",
              "      <th>4</th>\n",
              "      <th>5</th>\n",
              "      <th>6</th>\n",
              "      <th>7</th>\n",
              "      <th>8</th>\n",
              "      <th>9</th>\n",
              "      <th>10</th>\n",
              "      <th>11</th>\n",
              "      <th>12</th>\n",
              "      <th>13</th>\n",
              "      <th>14</th>\n",
              "    </tr>\n",
              "  </thead>\n",
              "  <tbody>\n",
              "    <tr>\n",
              "      <th>0</th>\n",
              "      <td>11.572601</td>\n",
              "      <td>9.436187</td>\n",
              "      <td>5.005275</td>\n",
              "      <td>0.000000</td>\n",
              "      <td>0.0</td>\n",
              "      <td>12.776829</td>\n",
              "      <td>0.0</td>\n",
              "      <td>0.000000</td>\n",
              "      <td>15.111971</td>\n",
              "      <td>0.0</td>\n",
              "      <td>9.868665</td>\n",
              "      <td>0.000000</td>\n",
              "      <td>0.000000</td>\n",
              "      <td>0.000000</td>\n",
              "      <td>16.622303</td>\n",
              "    </tr>\n",
              "    <tr>\n",
              "      <th>1</th>\n",
              "      <td>0.000000</td>\n",
              "      <td>0.000000</td>\n",
              "      <td>2.470119</td>\n",
              "      <td>4.444720</td>\n",
              "      <td>0.0</td>\n",
              "      <td>0.000000</td>\n",
              "      <td>0.0</td>\n",
              "      <td>0.150594</td>\n",
              "      <td>0.000000</td>\n",
              "      <td>0.0</td>\n",
              "      <td>0.001858</td>\n",
              "      <td>4.199831</td>\n",
              "      <td>2.537509</td>\n",
              "      <td>0.920910</td>\n",
              "      <td>0.000000</td>\n",
              "    </tr>\n",
              "    <tr>\n",
              "      <th>2</th>\n",
              "      <td>14.026102</td>\n",
              "      <td>12.097694</td>\n",
              "      <td>6.291148</td>\n",
              "      <td>0.000000</td>\n",
              "      <td>0.0</td>\n",
              "      <td>15.896018</td>\n",
              "      <td>0.0</td>\n",
              "      <td>0.000000</td>\n",
              "      <td>18.954037</td>\n",
              "      <td>0.0</td>\n",
              "      <td>13.550426</td>\n",
              "      <td>0.000000</td>\n",
              "      <td>0.000000</td>\n",
              "      <td>0.000000</td>\n",
              "      <td>21.953379</td>\n",
              "    </tr>\n",
              "    <tr>\n",
              "      <th>3</th>\n",
              "      <td>11.426409</td>\n",
              "      <td>9.563692</td>\n",
              "      <td>4.807910</td>\n",
              "      <td>0.000000</td>\n",
              "      <td>0.0</td>\n",
              "      <td>13.078573</td>\n",
              "      <td>0.0</td>\n",
              "      <td>0.000000</td>\n",
              "      <td>15.045640</td>\n",
              "      <td>0.0</td>\n",
              "      <td>10.697501</td>\n",
              "      <td>0.000000</td>\n",
              "      <td>0.000000</td>\n",
              "      <td>0.000000</td>\n",
              "      <td>17.230272</td>\n",
              "    </tr>\n",
              "    <tr>\n",
              "      <th>4</th>\n",
              "      <td>0.000000</td>\n",
              "      <td>0.000000</td>\n",
              "      <td>2.492197</td>\n",
              "      <td>4.493297</td>\n",
              "      <td>0.0</td>\n",
              "      <td>0.000000</td>\n",
              "      <td>0.0</td>\n",
              "      <td>0.274802</td>\n",
              "      <td>0.000000</td>\n",
              "      <td>0.0</td>\n",
              "      <td>0.000000</td>\n",
              "      <td>4.147699</td>\n",
              "      <td>2.437075</td>\n",
              "      <td>0.967316</td>\n",
              "      <td>0.000000</td>\n",
              "    </tr>\n",
              "  </tbody>\n",
              "</table>\n",
              "</div>"
            ],
            "text/plain": [
              "          0          1         2   ...        12        13         14\n",
              "0  11.572601   9.436187  5.005275  ...  0.000000  0.000000  16.622303\n",
              "1   0.000000   0.000000  2.470119  ...  2.537509  0.920910   0.000000\n",
              "2  14.026102  12.097694  6.291148  ...  0.000000  0.000000  21.953379\n",
              "3  11.426409   9.563692  4.807910  ...  0.000000  0.000000  17.230272\n",
              "4   0.000000   0.000000  2.492197  ...  2.437075  0.967316   0.000000\n",
              "\n",
              "[5 rows x 15 columns]"
            ]
          },
          "metadata": {
            "tags": []
          },
          "execution_count": 127
        }
      ]
    },
    {
      "cell_type": "markdown",
      "metadata": {
        "id": "-9UU6-suNJHg",
        "colab_type": "text"
      },
      "source": [
        "\n",
        "\n",
        "> Evaluate Base Random Forest Model\n",
        "\n",
        "---\n",
        "\n",
        "\n"
      ]
    },
    {
      "cell_type": "code",
      "metadata": {
        "id": "YOF-_WAGvayc",
        "colab_type": "code",
        "colab": {
          "base_uri": "https://localhost:8080/",
          "height": 36
        },
        "outputId": "d274cb0e-8da8-4dc5-c76d-8305b481a802"
      },
      "source": [
        "base_rf_predictions = base_rf.predict(test_features)\n",
        "print(base_rf_predictions.shape)"
      ],
      "execution_count": 128,
      "outputs": [
        {
          "output_type": "stream",
          "text": [
            "(300, 3)\n"
          ],
          "name": "stdout"
        }
      ]
    },
    {
      "cell_type": "markdown",
      "metadata": {
        "id": "C4TohmpANrsx",
        "colab_type": "text"
      },
      "source": [
        "Convertion of yTest to categorical"
      ]
    },
    {
      "cell_type": "code",
      "metadata": {
        "id": "KxA7WdkawRlN",
        "colab_type": "code",
        "colab": {
          "base_uri": "https://localhost:8080/",
          "height": 36
        },
        "outputId": "5fa15c2e-b93c-4e42-8821-796b0825ef2f"
      },
      "source": [
        "new_yTest=to_categorical(yTest,3)\n",
        "print(\"new_yTest shape \",end=\"\")\n",
        "print(new_yTest.shape)"
      ],
      "execution_count": 129,
      "outputs": [
        {
          "output_type": "stream",
          "text": [
            "new_yTest shape (300, 3)\n"
          ],
          "name": "stdout"
        }
      ]
    },
    {
      "cell_type": "markdown",
      "metadata": {
        "id": "1vQIH_E3OEyU",
        "colab_type": "text"
      },
      "source": [
        "\n",
        "\n",
        "> Show the Performance Metrics for Base Random Forest Model\n",
        "\n",
        "---\n",
        "\n",
        "\n",
        "\n"
      ]
    },
    {
      "cell_type": "code",
      "metadata": {
        "id": "eRg1-egqv271",
        "colab_type": "code",
        "colab": {
          "base_uri": "https://localhost:8080/",
          "height": 204
        },
        "outputId": "c9b03422-a70c-4196-bd10-4f849f723c37"
      },
      "source": [
        "base_rf_predict = np.argmax(base_rf_predictions, axis=1)\n",
        "base_rf_actual = np.argmax(new_yTest, axis=1)\n",
        "showResults(\"Base RF\",base_rf_actual, base_rf_predict)"
      ],
      "execution_count": 130,
      "outputs": [
        {
          "output_type": "stream",
          "text": [
            "Accuracy  : 1.0\n",
            "Precision : 1.0\n",
            "f1Score : 1.0\n",
            "Confusion Matrix\n",
            "[[102   0   0]\n",
            " [  0 104   0]\n",
            " [  0   0  94]]\n"
          ],
          "name": "stdout"
        },
        {
          "output_type": "execute_result",
          "data": {
            "text/plain": [
              "[('Base RF', 'Accuracy', 1.0),\n",
              " ('Base RF', 'Precision', 1.0),\n",
              " ('Base RF', 'F1Score', 1.0)]"
            ]
          },
          "metadata": {
            "tags": []
          },
          "execution_count": 130
        }
      ]
    },
    {
      "cell_type": "markdown",
      "metadata": {
        "id": "1_BGWN5WRWs9",
        "colab_type": "text"
      },
      "source": [
        "Validated the Base RF Model using CV and calculate the roc_auc score "
      ]
    },
    {
      "cell_type": "code",
      "metadata": {
        "id": "14m6bNqQJzqE",
        "colab_type": "code",
        "colab": {
          "base_uri": "https://localhost:8080/",
          "height": 54
        },
        "outputId": "0b53c5c9-4720-4d4e-c76f-5b1a83597000"
      },
      "source": [
        "#Combining the training and testing data for cross validation \n",
        "tempX=train_features.append(test_features)\n",
        "print(tempX.shape)\n",
        "tempY=yTrain+yTest\n",
        "tempY=to_categorical(tempY,3)\n",
        "print(tempY.shape)"
      ],
      "execution_count": 131,
      "outputs": [
        {
          "output_type": "stream",
          "text": [
            "(1500, 15)\n",
            "(1500, 3)\n"
          ],
          "name": "stdout"
        }
      ]
    },
    {
      "cell_type": "code",
      "metadata": {
        "id": "W4qGLgqkCPDM",
        "colab_type": "code",
        "colab": {}
      },
      "source": [
        "#Here inbuild library cross_val_score is used to do cross validation of base RF model. \n",
        "#It gives better idea of the performance of the model since the model is tested against k groups of unseen test data\n",
        "#Since esitmator (model) is a claissifier and ‘tempY’(target variable) is multicalss\n",
        "#cross_val_score library will by default use Statifiedkfold cross validation\n",
        "base_rf_cv_score = cross_val_score(base_rf, tempX, tempY, cv=10, scoring=\"roc_auc\")"
      ],
      "execution_count": 132,
      "outputs": []
    },
    {
      "cell_type": "code",
      "metadata": {
        "id": "So534K1ZIoOi",
        "colab_type": "code",
        "colab": {
          "base_uri": "https://localhost:8080/",
          "height": 73
        },
        "outputId": "a0555448-eba9-44e9-84e8-0ec9c249c913"
      },
      "source": [
        "print(\"All AUC Scores\")\n",
        "print(base_rf_cv_score)\n",
        "print(\"Mean AUC Score - Random Forest: \", base_rf_cv_score.mean())"
      ],
      "execution_count": 133,
      "outputs": [
        {
          "output_type": "stream",
          "text": [
            "All AUC Scores\n",
            "[1. 1. 1. 1. 1. 1. 1. 1. 1. 1.]\n",
            "Mean AUC Score - Random Forest:  1.0\n"
          ],
          "name": "stdout"
        }
      ]
    },
    {
      "cell_type": "markdown",
      "metadata": {
        "id": "LFD3wHx9R_32",
        "colab_type": "text"
      },
      "source": [
        "\n",
        "\n",
        "> HyperParameter optimization usign Random search Cross Validation\n",
        "\n",
        "\n",
        "---\n",
        "\n",
        "Ref:\n",
        "\n",
        "\n",
        "*   https://towardsdatascience.com/hyperparameter-tuning-the-random-forest-in-python-using-scikit-learn-28d2aa77dd74\n",
        "*   https://www.analyticsvidhya.com/blog/2015/06/tuning-random-forest-model/\n",
        "\n"
      ]
    },
    {
      "cell_type": "code",
      "metadata": {
        "id": "f9dTs8n6NWXc",
        "colab_type": "code",
        "colab": {
          "base_uri": "https://localhost:8080/",
          "height": 185
        },
        "outputId": "53daf2aa-e2d6-4348-9fd8-f676afbc6eea"
      },
      "source": [
        "# number of trees in random forest\n",
        "n_estimators = [int(x) for x in np.linspace(start = 10, stop = 1000, num = 10)]# number of features at every split\n",
        "max_features = [\"auto\", \"sqrt\"]\n",
        "\n",
        "# max depth\n",
        "max_depth = [int(x) for x in np.linspace(20, 300, num = 10)]\n",
        "max_depth.append(None)\n",
        "\n",
        "# create random grid\n",
        "random_grid = {\n",
        " \"n_estimators\": n_estimators,\n",
        " \"max_features\": max_features,\n",
        " \"max_depth\": max_depth}\n",
        "\n",
        "# Random search of parameters\n",
        "random_rf = RandomizedSearchCV(estimator = base_rf, param_distributions = random_grid, n_iter = 100, cv = 3, verbose=2, random_state=42, n_jobs = -1)# Fit the model\n",
        "random_rf.fit(train_features, new_yTrain)\n",
        "# print results\n",
        "print(\"Best Parameters are\")\n",
        "print(random_rf.best_params_)\n",
        "print(\"Best Score is\")\n",
        "print(random_rf.best_score_)"
      ],
      "execution_count": 134,
      "outputs": [
        {
          "output_type": "stream",
          "text": [
            "Fitting 3 folds for each of 100 candidates, totalling 300 fits\n"
          ],
          "name": "stdout"
        },
        {
          "output_type": "stream",
          "text": [
            "[Parallel(n_jobs=-1)]: Using backend LokyBackend with 2 concurrent workers.\n",
            "[Parallel(n_jobs=-1)]: Done  37 tasks      | elapsed:   22.6s\n",
            "[Parallel(n_jobs=-1)]: Done 158 tasks      | elapsed:  2.1min\n",
            "[Parallel(n_jobs=-1)]: Done 300 out of 300 | elapsed:  4.0min finished\n"
          ],
          "name": "stderr"
        },
        {
          "output_type": "stream",
          "text": [
            "Best Parameters are\n",
            "{'n_estimators': 230, 'max_features': 'sqrt', 'max_depth': 206}\n",
            "Best Score is\n",
            "1.0\n"
          ],
          "name": "stdout"
        }
      ]
    },
    {
      "cell_type": "markdown",
      "metadata": {
        "id": "S3xFLHu8aR7p",
        "colab_type": "text"
      },
      "source": [
        "Evaluate the RandomSearch CV best model"
      ]
    },
    {
      "cell_type": "code",
      "metadata": {
        "id": "SaNAFBXmaPHl",
        "colab_type": "code",
        "colab": {
          "base_uri": "https://localhost:8080/",
          "height": 36
        },
        "outputId": "e859fc76-416d-4d56-caa9-0e908944690b"
      },
      "source": [
        "#Extracting the best model\n",
        "best_random=random_rf.best_estimator_\n",
        "random_rf_predictions = best_random.predict(test_features)\n",
        "print(random_rf_predictions.shape)"
      ],
      "execution_count": 135,
      "outputs": [
        {
          "output_type": "stream",
          "text": [
            "(300, 3)\n"
          ],
          "name": "stdout"
        }
      ]
    },
    {
      "cell_type": "markdown",
      "metadata": {
        "id": "DXCFBBBFbiaq",
        "colab_type": "text"
      },
      "source": [
        "\n",
        "\n",
        "> Compare the performance metrics of Base RF Model and RandomSearchCV model\n",
        "\n",
        "---\n",
        "\n",
        "\n",
        "\n"
      ]
    },
    {
      "cell_type": "code",
      "metadata": {
        "id": "ZXhas-wAbQMv",
        "colab_type": "code",
        "colab": {
          "base_uri": "https://localhost:8080/",
          "height": 485
        },
        "outputId": "b8b04225-943c-47e1-8ec9-b3af699f5ad4"
      },
      "source": [
        "print(\"Base Random Forest Model\\n\")\n",
        "showResults(\"Base RF\",base_rf_actual, base_rf_predict)\n",
        "#base_rf_cv_score = cross_val_score(base_rf, tempX, tempY, cv=10, scoring=\"roc_auc\")\n",
        "\n",
        "print(\"All AUC Scores\")\n",
        "print(base_rf_cv_score)\n",
        "print(\"Mean AUC Score - Random Forest: \", base_rf_cv_score.mean())\n",
        "\n",
        "print(\"\\nRandomSearchCV Model\\n\")\n",
        "random_rf_predict = np.argmax(random_rf_predictions, axis=1)\n",
        "random_rf_actual = np.argmax(new_yTest, axis=1)\n",
        "random_rf_results=showResults(\"RandomSearchCV RF\",random_rf_actual, random_rf_predict)\n",
        "random_rf_cv_score = cross_val_score(best_random, tempX, tempY, cv=10, scoring=\"roc_auc\")\n",
        "\n",
        "print(\"All AUC Scores\")\n",
        "print(random_rf_cv_score)\n",
        "print(\"Mean AUC Score - Random Forest: \", random_rf_cv_score.mean())"
      ],
      "execution_count": 136,
      "outputs": [
        {
          "output_type": "stream",
          "text": [
            "Base Random Forest Model\n",
            "\n",
            "Accuracy  : 1.0\n",
            "Precision : 1.0\n",
            "f1Score : 1.0\n",
            "Confusion Matrix\n",
            "[[102   0   0]\n",
            " [  0 104   0]\n",
            " [  0   0  94]]\n",
            "All AUC Scores\n",
            "[1. 1. 1. 1. 1. 1. 1. 1. 1. 1.]\n",
            "Mean AUC Score - Random Forest:  1.0\n",
            "\n",
            "RandomSearchCV Model\n",
            "\n",
            "Accuracy  : 1.0\n",
            "Precision : 1.0\n",
            "f1Score : 1.0\n",
            "Confusion Matrix\n",
            "[[102   0   0]\n",
            " [  0 104   0]\n",
            " [  0   0  94]]\n",
            "All AUC Scores\n",
            "[1. 1. 1. 1. 1. 1. 1. 1. 1. 1.]\n",
            "Mean AUC Score - Random Forest:  1.0\n"
          ],
          "name": "stdout"
        }
      ]
    },
    {
      "cell_type": "markdown",
      "metadata": {
        "id": "qw33U5KYaEMw",
        "colab_type": "text"
      },
      "source": [
        "Train Base KNN Model"
      ]
    },
    {
      "cell_type": "code",
      "metadata": {
        "id": "c7Hg8SoCcAC-",
        "colab_type": "code",
        "colab": {
          "base_uri": "https://localhost:8080/",
          "height": 73
        },
        "outputId": "70da14ae-a238-4cf5-d89a-2a311170ebfe"
      },
      "source": [
        "# Create KNN classifier\n",
        "base_knn = KNeighborsClassifier(n_neighbors = 3)\n",
        "# Fit the classifier to the data\n",
        "base_knn.fit(train_features, new_yTrain)\n"
      ],
      "execution_count": 137,
      "outputs": [
        {
          "output_type": "execute_result",
          "data": {
            "text/plain": [
              "KNeighborsClassifier(algorithm='auto', leaf_size=30, metric='minkowski',\n",
              "                     metric_params=None, n_jobs=None, n_neighbors=3, p=2,\n",
              "                     weights='uniform')"
            ]
          },
          "metadata": {
            "tags": []
          },
          "execution_count": 137
        }
      ]
    },
    {
      "cell_type": "code",
      "metadata": {
        "id": "N1WiP6rgawlj",
        "colab_type": "code",
        "colab": {
          "base_uri": "https://localhost:8080/",
          "height": 36
        },
        "outputId": "41a8f1fc-ae6a-4bda-e2fc-6561bd347b6f"
      },
      "source": [
        "base_knn_predictions=base_knn.predict(test_features)\n",
        "print(base_knn_predictions.shape)"
      ],
      "execution_count": 138,
      "outputs": [
        {
          "output_type": "stream",
          "text": [
            "(300, 3)\n"
          ],
          "name": "stdout"
        }
      ]
    },
    {
      "cell_type": "markdown",
      "metadata": {
        "id": "n8o5Yk2ZbP-J",
        "colab_type": "text"
      },
      "source": [
        "Show Performance Metrics for Base KNN Model"
      ]
    },
    {
      "cell_type": "code",
      "metadata": {
        "id": "k8rL7TvJbOmw",
        "colab_type": "code",
        "colab": {
          "base_uri": "https://localhost:8080/",
          "height": 204
        },
        "outputId": "8bd4d4a6-d20a-4f70-99be-c97b08dbcd35"
      },
      "source": [
        "base_knn_predict = np.argmax(base_knn_predictions, axis=1)\n",
        "base_knn_actual = np.argmax(new_yTest, axis=1)\n",
        "showResults(\"Base KNN\",base_knn_actual, base_knn_predict)"
      ],
      "execution_count": 139,
      "outputs": [
        {
          "output_type": "stream",
          "text": [
            "Accuracy  : 1.0\n",
            "Precision : 1.0\n",
            "f1Score : 1.0\n",
            "Confusion Matrix\n",
            "[[102   0   0]\n",
            " [  0 104   0]\n",
            " [  0   0  94]]\n"
          ],
          "name": "stdout"
        },
        {
          "output_type": "execute_result",
          "data": {
            "text/plain": [
              "[('Base KNN', 'Accuracy', 1.0),\n",
              " ('Base KNN', 'Precision', 1.0),\n",
              " ('Base KNN', 'F1Score', 1.0)]"
            ]
          },
          "metadata": {
            "tags": []
          },
          "execution_count": 139
        }
      ]
    },
    {
      "cell_type": "markdown",
      "metadata": {
        "id": "KVFFYFkqbnrh",
        "colab_type": "text"
      },
      "source": [
        "Validated the Base KNN Model using CV and calculate the roc_auc score "
      ]
    },
    {
      "cell_type": "code",
      "metadata": {
        "id": "ETbj7l-qbqqp",
        "colab_type": "code",
        "colab": {}
      },
      "source": [
        "#Here inbuild library cross_val_score is used to do cross validation of base KNN model. Since esitmator (model) is a claissifier and ‘tempY’(target variable) is multicalss\n",
        "#cross_val_score library will by default use Statifiedkfold cross validation\n",
        "base_knn_cv_score = cross_val_score(base_knn, tempX, tempY, cv=10, scoring=\"roc_auc\")"
      ],
      "execution_count": 140,
      "outputs": []
    },
    {
      "cell_type": "code",
      "metadata": {
        "id": "TEK4iqdBb0TC",
        "colab_type": "code",
        "colab": {
          "base_uri": "https://localhost:8080/",
          "height": 73
        },
        "outputId": "63af1590-b991-4f03-ac3e-82b423bee054"
      },
      "source": [
        "print(\"All AUC Scores\")\n",
        "print(base_knn_cv_score)\n",
        "print(\"Mean AUC Score - Random Forest: \", base_knn_cv_score.mean())"
      ],
      "execution_count": 141,
      "outputs": [
        {
          "output_type": "stream",
          "text": [
            "All AUC Scores\n",
            "[1. 1. 1. 1. 1. 1. 1. 1. 1. 1.]\n",
            "Mean AUC Score - Random Forest:  1.0\n"
          ],
          "name": "stdout"
        }
      ]
    },
    {
      "cell_type": "markdown",
      "metadata": {
        "id": "k7W2z-RIcHWm",
        "colab_type": "text"
      },
      "source": [
        "> HyperParameter optimization usign Grid Search Cross Validation\n",
        "\n",
        "---\n",
        "Ref:\n",
        "https://towardsdatascience.com/building-a-k-nearest-neighbors-k-nn-model-with-scikit-learn-51209555453a\n"
      ]
    },
    {
      "cell_type": "code",
      "metadata": {
        "id": "xog35t70cGqb",
        "colab_type": "code",
        "colab": {
          "base_uri": "https://localhost:8080/",
          "height": 92
        },
        "outputId": "5a31a468-39e4-4384-c471-d971f06f43db"
      },
      "source": [
        "#create a dictionary of all values we want to test for n_neighbors\n",
        "param_grid = {\"n_neighbors\": [3,5,7,9]}\n",
        "#use gridsearch to test all values for n_neighbors\n",
        "grid_knn = GridSearchCV(base_knn, param_grid, cv=3)\n",
        "#fit model to data\n",
        "grid_knn.fit(train_features, new_yTrain)\n",
        "print(\"Best Parameters are\")\n",
        "print(grid_knn.best_params_)\n",
        "print(\"Best Score is\")\n",
        "print(grid_knn.best_score_)"
      ],
      "execution_count": 142,
      "outputs": [
        {
          "output_type": "stream",
          "text": [
            "Best Parameters are\n",
            "{'n_neighbors': 3}\n",
            "Best Score is\n",
            "1.0\n"
          ],
          "name": "stdout"
        }
      ]
    },
    {
      "cell_type": "code",
      "metadata": {
        "id": "l2Vr0MsDarxh",
        "colab_type": "code",
        "colab": {}
      },
      "source": [
        "grid_knn_scores_df = pd.DataFrame(grid_knn.cv_results_['params'])\n",
        "grid_knn_scores_df['test_score'] = grid_knn.cv_results_['mean_test_score']"
      ],
      "execution_count": 143,
      "outputs": []
    },
    {
      "cell_type": "code",
      "metadata": {
        "id": "nEpWo-D0bhXW",
        "colab_type": "code",
        "colab": {
          "base_uri": "https://localhost:8080/",
          "height": 280
        },
        "outputId": "4c96be6d-fe63-48db-a572-e3cef0e16566"
      },
      "source": [
        "#grid_knn_scores_df.head(5)\n",
        "ax = sns.lineplot(x=\"n_neighbors\", y=\"test_score\", data=grid_knn_scores_df)\n",
        "figure=ax.get_figure()\n",
        "#figure.savefig('/content/drive/My Drive/Smart Health/Assignment_3/K_Value_Graph', format='png', dpi=600)"
      ],
      "execution_count": 144,
      "outputs": [
        {
          "output_type": "display_data",
          "data": {
            "image/png": "[encoded data removed]",
            "text/plain": [
              "<Figure size 432x288 with 1 Axes>"
            ]
          },
          "metadata": {
            "tags": [],
            "needs_background": "light"
          }
        }
      ]
    },
    {
      "cell_type": "code",
      "metadata": {
        "id": "4b0etwSTeOay",
        "colab_type": "code",
        "colab": {
          "base_uri": "https://localhost:8080/",
          "height": 36
        },
        "outputId": "1c43a93c-2ef7-4832-f40f-bac9f8916868"
      },
      "source": [
        "best_grid=grid_knn.best_estimator_\n",
        "grid_knn_predictions = best_grid.predict(test_features)\n",
        "print(grid_knn_predictions.shape)"
      ],
      "execution_count": 145,
      "outputs": [
        {
          "output_type": "stream",
          "text": [
            "(300, 3)\n"
          ],
          "name": "stdout"
        }
      ]
    },
    {
      "cell_type": "code",
      "metadata": {
        "id": "q7Sq6NQToF5j",
        "colab_type": "code",
        "colab": {
          "base_uri": "https://localhost:8080/",
          "height": 485
        },
        "outputId": "a43f5bb8-f0ac-4d62-b155-d6e31ebb8e20"
      },
      "source": [
        "print(\"Base KNN Model\\n\")\n",
        "showResults(\"Base KNN\",base_knn_actual, base_knn_predict)\n",
        "#base_rf_cv_score = cross_val_score(base_nn, tempX, tempY, cv=10, scoring=\"roc_auc\")\n",
        "print(\"All AUC Scores\")\n",
        "print(base_knn_cv_score)\n",
        "print(\"Mean AUC Score - KNN: \", base_knn_cv_score.mean())\n",
        "\n",
        "print(\"\\nGridSearchCV Model\\n\")\n",
        "grid_knn_predict = np.argmax(grid_knn_predictions, axis=1)\n",
        "grid_knn_actual = np.argmax(new_yTest, axis=1)\n",
        "grid_knn_results=showResults(\"GridSearchCV KNN\",grid_knn_actual, grid_knn_predict)\n",
        "grid_knn_cv_score = cross_val_score(best_grid, tempX, tempY, cv=10, scoring=\"roc_auc\")\n",
        "print(\"All AUC Scores\")\n",
        "print(grid_knn_cv_score)\n",
        "print(\"Mean AUC Score - KNN: \", grid_knn_cv_score.mean())"
      ],
      "execution_count": 146,
      "outputs": [
        {
          "output_type": "stream",
          "text": [
            "Base KNN Model\n",
            "\n",
            "Accuracy  : 1.0\n",
            "Precision : 1.0\n",
            "f1Score : 1.0\n",
            "Confusion Matrix\n",
            "[[102   0   0]\n",
            " [  0 104   0]\n",
            " [  0   0  94]]\n",
            "All AUC Scores\n",
            "[1. 1. 1. 1. 1. 1. 1. 1. 1. 1.]\n",
            "Mean AUC Score - KNN:  1.0\n",
            "\n",
            "GridSearchCV Model\n",
            "\n",
            "Accuracy  : 1.0\n",
            "Precision : 1.0\n",
            "f1Score : 1.0\n",
            "Confusion Matrix\n",
            "[[102   0   0]\n",
            " [  0 104   0]\n",
            " [  0   0  94]]\n",
            "All AUC Scores\n",
            "[1. 1. 1. 1. 1. 1. 1. 1. 1. 1.]\n",
            "Mean AUC Score - KNN:  1.0\n"
          ],
          "name": "stdout"
        }
      ]
    },
    {
      "cell_type": "code",
      "metadata": {
        "id": "sOqvSFpAhGcl",
        "colab_type": "code",
        "colab": {
          "base_uri": "https://localhost:8080/",
          "height": 36
        },
        "outputId": "570fb75e-60ba-472f-a024-de84590d486b"
      },
      "source": [
        "grid_knn_actual.shape"
      ],
      "execution_count": 147,
      "outputs": [
        {
          "output_type": "execute_result",
          "data": {
            "text/plain": [
              "(300,)"
            ]
          },
          "metadata": {
            "tags": []
          },
          "execution_count": 147
        }
      ]
    },
    {
      "cell_type": "code",
      "metadata": {
        "id": "zH1euMXbPAjE",
        "colab_type": "code",
        "colab": {
          "base_uri": "https://localhost:8080/",
          "height": 374
        },
        "outputId": "152e9cae-c524-4e1f-c864-9cb881d2780f"
      },
      "source": [
        "#print(random_rf_results)\n",
        "#print(grid_knn_results)\n",
        "#print(random_rf_results+grid_knn_results)\n",
        "\n",
        "final_df=pd.DataFrame(random_rf_results+grid_knn_results,columns=[\"Model\",\"Metric\",\"Value\"])\n",
        "g = sns.catplot(x=\"Metric\", y=\"Value\", col=\"Model\", palette=\"pastel\",data=final_df, saturation=0.8,kind=\"bar\", ci=None,aspect=.7)\n",
        "\n",
        "(g.set_axis_labels(\"\", \"Metric Value\")\n",
        "\n",
        "  .set_xticklabels([\"Accuracy\", \"Precision\", \"F1Score\"])\n",
        "\n",
        "  .set_titles(\"{col_name} {col_var}\")\n",
        "\n",
        "  .set(ylim=(0, 1))\n",
        "\n",
        "  .despine(left=True))  \n",
        "\n",
        "#figure1=g.getfigure()\n",
        "#figure1.savefig('/content/drive/My Drive/Smart Health/Assignment_3/RFC VS KNN Plot', format='png', dpi=600)"
      ],
      "execution_count": 148,
      "outputs": [
        {
          "output_type": "execute_result",
          "data": {
            "text/plain": [
              "<seaborn.axisgrid.FacetGrid at 0x7f945d9e1c88>"
            ]
          },
          "metadata": {
            "tags": []
          },
          "execution_count": 148
        },
        {
          "output_type": "display_data",
          "data": {
            "image/png": "[encoded data removed]",
            "text/plain": [
              "<Figure size 504x360 with 2 Axes>"
            ]
          },
          "metadata": {
            "tags": [],
            "needs_background": "light"
          }
        }
      ]
    },
    {
      "cell_type": "markdown",
      "metadata": {
        "id": "udHo4Uj6nWW5",
        "colab_type": "text"
      },
      "source": [
        "Save Model"
      ]
    },
    {
      "cell_type": "code",
      "metadata": {
        "id": "XoYqUlbOmstH",
        "colab_type": "code",
        "colab": {}
      },
      "source": [
        "pkl_filename1 = \"/content/drive/My Drive/Smart Health/Assignment_3/0892691-RF.pkl\"\n",
        "with open(pkl_filename1, 'wb') as file:\n",
        "    pickle.dump(best_random, file)"
      ],
      "execution_count": 149,
      "outputs": []
    },
    {
      "cell_type": "code",
      "metadata": {
        "id": "TrfzZFkFnkol",
        "colab_type": "code",
        "colab": {}
      },
      "source": [
        "pkl_filename2 = \"/content/drive/My Drive/Smart Health/Assignment_3/0892691-KNN.pkl\"\n",
        "with open(pkl_filename2, 'wb') as file:\n",
        "    pickle.dump(best_grid, file)"
      ],
      "execution_count": 150,
      "outputs": []
    }
  ]
}